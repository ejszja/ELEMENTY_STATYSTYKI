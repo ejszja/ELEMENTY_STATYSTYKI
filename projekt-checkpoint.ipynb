{
 "cells": [
  {
   "cell_type": "code",
   "execution_count": 119,
   "metadata": {},
   "outputs": [],
   "source": [
    "#Joanna Książczyk projekt 1.0\n"
   ]
  },
  {
   "cell_type": "code",
   "execution_count": 120,
   "metadata": {},
   "outputs": [],
   "source": [
    "import glob #Unix style pathname pattern expansion\n",
    "import numpy as np #bazy danych\n",
    "import matplotlib.pyplot as plt #wykresy\n",
    "import matplotlib.mlab as mlab #wykresy\n",
    "%matplotlib inline \n",
    "import datetime #czas, przyda się potem \n",
    "import csv #czytanie plików csv\n",
    "import pandas as pd #wykresy, histogramy"
   ]
  },
  {
   "cell_type": "code",
   "execution_count": 211,
   "metadata": {},
   "outputs": [],
   "source": [
    "#ŚCIEŻKI DOSTĘPU\n",
    "#########################################################################\n",
    "user_path='Joanna_Książczyk_dane.csv'\n",
    "\n",
    "#########################################################################\n",
    "stats_path=r'''\\stats\\stats.csv'''\n",
    "\n",
    "#########################################################################\n",
    "empty_char=str(chr(45))\n"
   ]
  },
  {
   "cell_type": "code",
   "execution_count": 122,
   "metadata": {},
   "outputs": [],
   "source": [
    "#tworzymy listę lat do wykresów jako oś x\n",
    "lata=[]\n",
    "for i in range(1995,2019):\n",
    "    lata.append(i)\n",
    "#DATA LISTS\n",
    "ID=[] #KOD\n",
    "miasta=[] #miasta\n",
    "kina=[] #ogolem kina w latach\n",
    "sale=[] #ilosc sal w latach\n",
    "miejsca_na_widowni=[] #miejsca na widowni w latach\n",
    "seanse_ogolem=[] #seanse ogolem w latach\n",
    "seanse_filmy_produkcji_polskiej=[] #ilosc seansow filmow produkcji polskiej\n",
    "widzowie_ogolem=[] #liczba widzow ogolem\n",
    "widzowie_na_filmach_produkcji_polskiej=[] #liczba widzow na filmach produkcji polskiej\n",
    "osoby_niepelnosprawne_obiekty=[] #ilosc obiektow dla osob niepelnosprawnych\n",
    "osoby_niepelnosprawne_wejscia=[] #ilosc podjazdow dla niepelnosprawnych\n",
    "osoby_niepelnosprawne_udogodnienia=[] #ilosc udogodnien dla niepelnosprawnych\n",
    "\n"
   ]
  },
  {
   "cell_type": "code",
   "execution_count": 278,
   "metadata": {},
   "outputs": [],
   "source": [
    "#########################################\n",
    "#FUNKCJA ZMIANY ZNAKU - na 0 do wykresow\n",
    "def zamianaznaku(lista):\n",
    "    for i in range(0,len(lista)):\n",
    "        if(lista[i]==empty_char):\n",
    "            lista[i]=0\n",
    "    return lista"
   ]
  },
  {
   "cell_type": "code",
   "execution_count": 228,
   "metadata": {},
   "outputs": [],
   "source": [
    "#sprawdzanie pliku scv\n",
    "if not user_path:\n",
    "    print (\"Plik nie istnieje, system exit\")\n",
    "    system.exit()"
   ]
  },
  {
   "cell_type": "code",
   "execution_count": 229,
   "metadata": {},
   "outputs": [],
   "source": [
    "#ZCZYTANIE CSV DO data\n",
    "data=[]\n",
    "data=pd.read_csv(user_path, engine='python')\n",
    "kina=[]\n"
   ]
  },
  {
   "cell_type": "code",
   "execution_count": 230,
   "metadata": {},
   "outputs": [],
   "source": [
    "#BRUDNOPIS###################################################################################\n",
    "#data2=data.iloc[0:3,0:4]\n",
    "\n",
    "#usuwanie Kodu\n",
    "#data2=data2.set_index(\"Kod\", drop = False)\n",
    "\n",
    "#w wierszu 240\n",
    "\n",
    "#data2 = data.transpose()\n",
    "#data2 = data2.drop(dataSheet.columns[[0,1]], axis=1)\n",
    "#data2 = data2.drop(['World Development Indicators', 'Unnamed: 2','Unnamed: 3'])\n",
    "#print(data2)\n",
    "##############################################################################################"
   ]
  },
  {
   "cell_type": "code",
   "execution_count": 243,
   "metadata": {},
   "outputs": [
    {
     "name": "stdout",
     "output_type": "stream",
     "text": [
      "        0\n",
      "1995  702\n",
      "1996  690\n",
      "1997  674\n",
      "1998  675\n",
      "1999  682\n",
      "2000  675\n",
      "2001  648\n",
      "2002  619\n",
      "2003  581\n",
      "2004  545\n",
      "2005  536\n",
      "2006  505\n",
      "2007  496\n",
      "2008  483\n",
      "2009  448\n",
      "2010  438\n",
      "2011  448\n",
      "2012  447\n",
      "2013  469\n",
      "2014  463\n",
      "2015  444\n",
      "2016  484\n",
      "2017  491\n",
      "2018    -\n"
     ]
    }
   ],
   "source": [
    "#Pobieramy tutaj konkretne interesujące nas dane, w tym przypadku ilość kin w całej polsce w latach 1995-2018\n",
    "\n",
    "kina=data.iloc[0:1,2:26]\n",
    "#transponujemy teraz pobrane dane żeby utworzyć wykres\n",
    "kina = kina.transpose()\n",
    "#data.iloc[2:26,0:1]\n",
    "print(kina)\n",
    "#tak wygląda kina i jest typu DATA FRAME"
   ]
  },
  {
   "cell_type": "code",
   "execution_count": 220,
   "metadata": {},
   "outputs": [],
   "source": [
    "#Teraz dataframe przerobimy na listę normalną coby łatwiej operować\n",
    "# data2.iat[0,0] służy do pobierania wartości z indexu [0,0]\n",
    "#na razie nie będzie używane ale przyda się w przyszłości\n",
    "lista=[]\n",
    "for i in range(len(kina)):\n",
    "    lista.append(kina.iat[i,0])"
   ]
  },
  {
   "cell_type": "code",
   "execution_count": 268,
   "metadata": {},
   "outputs": [
    {
     "name": "stdout",
     "output_type": "stream",
     "text": [
      "  1995 1996 1997 1998 1999 2000 2001 2002 2003 2004 ...  2008 2009 2010 2011  \\\n",
      "0  702  690  674  675  682  675  648  619  581  545 ...   483  448  438  448   \n",
      "\n",
      "  2012 2013 2014 2015 2016 2017  \n",
      "0  447  469  463  444  484  491  \n",
      "\n",
      "[1 rows x 23 columns]\n",
      "          0\n",
      "1995  702.0\n",
      "1996  690.0\n",
      "1997  674.0\n",
      "1998  675.0\n",
      "1999  682.0\n",
      "2000  675.0\n",
      "2001  648.0\n",
      "2002  619.0\n",
      "2003  581.0\n",
      "2004  545.0\n",
      "2005  536.0\n",
      "2006  505.0\n",
      "2007  496.0\n",
      "2008  483.0\n",
      "2009  448.0\n",
      "2010  438.0\n",
      "2011  448.0\n",
      "2012  447.0\n",
      "2013  469.0\n",
      "2014  463.0\n",
      "2015  444.0\n",
      "2016  484.0\n",
      "2017  491.0\n"
     ]
    },
    {
     "data": {
      "text/plain": [
       "Text(0.5, 0, 'Lata')"
      ]
     },
     "execution_count": 268,
     "metadata": {},
     "output_type": "execute_result"
    },
    {
     "data": {
      "image/png": "[encoded data removed]",
      "text/plain": [
       "<Figure size 432x288 with 1 Axes>"
      ]
     },
     "metadata": {},
     "output_type": "display_data"
    }
   ],
   "source": [
    "#WYKRES ZMIANY ILOŚCI KIN W POLSCE W ZALEŻNOŚCI DO ROKU\n",
    "#2:25 bo 26 jest \"-\" \n",
    "kina2=data.iloc[0:1,2:25]\n",
    "print(kina2)\n",
    "kina2=kina2.astype(float)\n",
    "plt.style.use('ggplot') #wygląd wykresu, kind='bar' w t.plot ustawia histogram\n",
    "#kina2.T to transponowanie kina2\n",
    "kina2 = kina2.transpose()\n",
    "\n",
    "print(kina2)\n",
    "kina2.plot(alpha=0.75, rot=45,kind='bar')\n",
    "\n",
    "plt.title(\"Ilość kin w Polsce w poszczególnych latach\")\n",
    "plt.ylabel(\"Ilość kin\")\n",
    "plt.xlabel(\"Lata\")"
   ]
  },
  {
   "cell_type": "markdown",
   "metadata": {},
   "source": []
  },
  {
   "cell_type": "code",
   "execution_count": 270,
   "metadata": {
    "scrolled": true
   },
   "outputs": [
    {
     "name": "stdout",
     "output_type": "stream",
     "text": [
      "         0\n",
      "1995     -\n",
      "1996     -\n",
      "1997     -\n",
      "1998     -\n",
      "1999     -\n",
      "2000   821\n",
      "2001   855\n",
      "2002   874\n",
      "2003   880\n",
      "2004   870\n",
      "2005   937\n",
      "2006   931\n",
      "2007  1008\n",
      "2008  1043\n",
      "2009  1061\n",
      "2010  1076\n",
      "2011  1122\n",
      "2012  1162\n",
      "2013  1243\n",
      "2014  1243\n",
      "2015  1276\n",
      "2016  1364\n",
      "2017  1416\n",
      "2018     -\n"
     ]
    }
   ],
   "source": [
    "#Pobieramy tutaj konkretne interesujące nas dane, w tym przypadku ilość sal w kinach w całej polsce w latach 1995-2018\n",
    "sale=[]\n",
    "sale=data.iloc[0:1,26:50]\n",
    "#zmienmy te nazwy indeksow pamietajac ze musi byc sale od 1995 do 2018\n",
    "for i in range(0,len(lata)):\n",
    "    sale.columns.values[i]=lata[i]\n",
    "\n",
    "#transponujemy teraz pobrane dane żeby utworzyć wykres\n",
    "sale = sale.transpose()\n",
    "#data.iloc[31:49,0:1]\n",
    "print(sale)\n",
    "#tak wygląda dataa2 i jest typu DATA FRAME"
   ]
  },
  {
   "cell_type": "code",
   "execution_count": 295,
   "metadata": {},
   "outputs": [
    {
     "name": "stdout",
     "output_type": "stream",
     "text": [
      "Oś x musi być taka sama, a jest 23 i 24\n"
     ]
    },
    {
     "data": {
      "image/png": "[encoded data removed]",
      "text/plain": [
       "<Figure size 432x288 with 2 Axes>"
      ]
     },
     "metadata": {},
     "output_type": "display_data"
    }
   ],
   "source": [
    "kina2 = kina2.transpose()\n",
    "if (len(kina2.index)!=len(sale.index)):\n",
    "    print(\"Oś x musi być taka sama, a jest {} i {}\".format(len(kina2.index),len(sale.index)))\n",
    "\n",
    "#wiec utniemy o ten jeden sale (o 2018 rok)\n",
    "\n",
    "t,data1,data2=[],[],[]\n",
    "for i in kina2.index:\n",
    "    t.append(i)\n",
    "\n",
    "for i in range(0,len(kina2.values.tolist())):\n",
    "    data1.append(kina2.values.tolist()[i][0])\n",
    "\n",
    "for i in range(0,len(sale.values.tolist())):\n",
    "    data2.append(sale.values.tolist()[i][0])\n",
    "#usuwamy złe znaki\n",
    "data1=zamianaznaku(data1) #ilosc kin\n",
    "data2=zamianaznaku(data2) #ilosc sali\n",
    "#tu ucinamy jeden element\n",
    "data2=data2[:-1]\n",
    "\n",
    "\n",
    "fig, ax1 = plt.subplots()\n",
    "\n",
    "color = 'tab:red'\n",
    "ax1.set_xlabel('lata')\n",
    "ax1.set_ylabel('ilosc kin', color=color)\n",
    "ax1.plot(t, data1, color=color)\n",
    "ax1.tick_params(axis='y', labelcolor=color)\n",
    "\n",
    "ax2 = ax1.twinx()  # instantiate a second axes that shares the same x-axis\n",
    "\n",
    "color = 'tab:blue'\n",
    "ax2.set_ylabel('ilosc sal', color=color)  # we already handled the x-label with ax1\n",
    "ax2.plot(t, data2, color=color)\n",
    "ax2.tick_params(axis='y', labelcolor=color)\n",
    "\n",
    "plt.title(\"Ilość sal w kinach w Polsce w poszczególnych latach\")\n",
    "fig.tight_layout()  # otherwise the right y-label is slightly clipped\n",
    "plt.show()"
   ]
  },
  {
   "cell_type": "code",
   "execution_count": null,
   "metadata": {},
   "outputs": [],
   "source": [
    "#dla sprawdzenia prosze porownanie baz obu\n",
    "print()"
   ]
  },
  {
   "cell_type": "code",
   "execution_count": null,
   "metadata": {},
   "outputs": [],
   "source": []
  }
 ],
 "metadata": {
  "kernelspec": {
   "display_name": "Python 3",
   "language": "python",
   "name": "python3"
  },
  "language_info": {
   "codemirror_mode": {
    "name": "ipython",
    "version": 3
   },
   "file_extension": ".py",
   "mimetype": "text/x-python",
   "name": "python",
   "nbconvert_exporter": "python",
   "pygments_lexer": "ipython3",
   "version": "3.7.1"
  }
 },
 "nbformat": 4,
 "nbformat_minor": 2
}
