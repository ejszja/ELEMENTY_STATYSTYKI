{
 "cells": [
  {
   "cell_type": "code",
   "execution_count": 263,
   "metadata": {},
   "outputs": [],
   "source": [
    "#Asia Książczyk projekt 0.1\n",
    "\n",
    "#Bibliografia:\n",
    "# https://swcarpentry.github.io/python-novice-gapminder/09-plotting/"
   ]
  },
  {
   "cell_type": "code",
   "execution_count": 264,
   "metadata": {},
   "outputs": [],
   "source": [
    "import glob #Unix style pathname pattern expansion\n",
    "import numpy as np #bazy danych\n",
    "import matplotlib.pyplot as plt #wykresy\n",
    "import matplotlib.mlab as mlab #wykresy\n",
    "#stackoverflow.com/questions/43027980/purpose-of-matplotlib-inline czyli jakaś magiczna funkcja, podobno must have w jupyterze\n",
    "%matplotlib inline \n",
    "import datetime #czas, przyda się potem \n",
    "import csv #czytanie plików csv\n",
    "import pandas as pd #wykresy, histogramy"
   ]
  },
  {
   "cell_type": "code",
   "execution_count": 265,
   "metadata": {},
   "outputs": [],
   "source": [
    "#ŚCIEŻKI DOSTĘPU\n",
    "#WPISZ SCIEZKE DO FOLDERU W KTORYM ZBADAMY CSV\n",
    "#########################################################################\n",
    "user_path='Joanna_Książczyk_dane.csv'\n",
    "\n",
    "#########################################################################\n",
    "stats_path=r'''\\stats\\stats.csv'''\n",
    "\n",
    "#########################################################################\n",
    "empty_char=str(chr(45))"
   ]
  },
  {
   "cell_type": "code",
   "execution_count": 266,
   "metadata": {},
   "outputs": [],
   "source": [
    "#tworzymy listę lat do wykresów jako oś x\n",
    "lata=[]\n",
    "for i in range(1995,2019):\n",
    "    lata.append(i)\n",
    "#DATA LISTS chociaż w sumie chyba dynamicznie będzie się pobierać do jednej listy wsio bo szkoda pamięci na trzymanie tylu danych w jednym momencie\n",
    "#tak czy to reprezentacja danych jakie mogę pobrać z tej bazy\n",
    "ID=[] #KOD\n",
    "miasta=[] #miasta\n",
    "kina=[] #ogolem kina w latach\n",
    "sale=[] #ilosc sal w latach\n",
    "miejsca_na_widowni=[] #miejsca na widowni w latach\n",
    "seanse_ogolem=[] #seanse ogolem w latach\n",
    "seanse_filmy_produkcji_polskiej=[] #ilosc seansow filmow produkcji polskiej\n",
    "widzowie_ogolem=[] #liczba widzow ogolem\n",
    "widzowie_na_filmach_produkcji_polskiej=[] #liczba widzow na filmach produkcji polskiej\n",
    "osoby_niepelnosprawne_obiekty=[] #ilosc obiektow dla osob niepelnosprawnych\n",
    "osoby_niepelnosprawne_wejscia=[] #ilosc podjazdow dla niepelnosprawnych\n",
    "osoby_niepelnosprawne_udogodnienia=[] #ilosc udogodnien dla niepelnosprawnych\n",
    "\n"
   ]
  },
  {
   "cell_type": "code",
   "execution_count": 267,
   "metadata": {},
   "outputs": [],
   "source": [
    "#sprawdzanie pliku scv\n",
    "if not user_path:\n",
    "    print (\"Plik nie istnieje, system exit\")\n",
    "    system.exit()"
   ]
  },
  {
   "cell_type": "code",
   "execution_count": 268,
   "metadata": {},
   "outputs": [],
   "source": [
    "#ZCZYTANIE CSV DO data\n",
    "data=[]\n",
    "data=pd.read_csv(user_path, engine='python')\n",
    "data2=[]\n"
   ]
  },
  {
   "cell_type": "code",
   "execution_count": 269,
   "metadata": {},
   "outputs": [],
   "source": [
    "#BRUDNOPIS###################################################################################\n",
    "#data2=data.iloc[0:3,0:4]\n",
    "\n",
    "#usuwanie Kodu\n",
    "#data2=data2.set_index(\"Kod\", drop = False)\n",
    "\n",
    "#w wierszu 240\n",
    "\n",
    "#data2 = data.transpose()\n",
    "#data2 = data2.drop(dataSheet.columns[[0,1]], axis=1)\n",
    "#data2 = data2.drop(['World Development Indicators', 'Unnamed: 2','Unnamed: 3'])\n",
    "#print(data2)\n",
    "##############################################################################################"
   ]
  },
  {
   "cell_type": "code",
   "execution_count": 270,
   "metadata": {},
   "outputs": [
    {
     "name": "stdout",
     "output_type": "stream",
     "text": [
      "        0\n",
      "1995  702\n",
      "1996  690\n",
      "1997  674\n",
      "1998  675\n",
      "1999  682\n",
      "2000  675\n",
      "2001  648\n",
      "2002  619\n",
      "2003  581\n",
      "2004  545\n",
      "2005  536\n",
      "2006  505\n",
      "2007  496\n",
      "2008  483\n",
      "2009  448\n",
      "2010  438\n",
      "2011  448\n",
      "2012  447\n",
      "2013  469\n",
      "2014  463\n",
      "2015  444\n",
      "2016  484\n",
      "2017  491\n",
      "2018    -\n"
     ]
    }
   ],
   "source": [
    "#Pobieramy tutaj konkretne interesujące nas dane, w tym przypadku ilość kin w całej polsce w latach 1995-2018\n",
    "\n",
    "data2=data.iloc[0:1,2:26]\n",
    "#transponujemy teraz pobrane dane żeby utworzyć wykres\n",
    "data2 = data2.transpose()\n",
    "#data.iloc[0:21,0:1]\n",
    "print(data2)\n",
    "#tak wygląda data2 i jest typu DATA FRAME"
   ]
  },
  {
   "cell_type": "code",
   "execution_count": 271,
   "metadata": {},
   "outputs": [],
   "source": [
    "#Teraz dataframe przerobimy na listę normalną coby łatwiej operować nań\n",
    "# data2.iat[0,0] służy do pobierania wartości z indexu [0,0]\n",
    "#na razie nie będzie używane ale przyda się w przyszłości\n",
    "lista=[]\n",
    "for i in range(len(data2)):\n",
    "    lista.append(data2.iat[i,0])"
   ]
  },
  {
   "cell_type": "code",
   "execution_count": 272,
   "metadata": {},
   "outputs": [
    {
     "name": "stdout",
     "output_type": "stream",
     "text": [
      "  1995 1996 1997 1998 1999 2000 2001 2002 2003 2004 ...  2008 2009 2010 2011  \\\n",
      "0  702  690  674  675  682  675  648  619  581  545 ...   483  448  438  448   \n",
      "\n",
      "  2012 2013 2014 2015 2016 2017  \n",
      "0  447  469  463  444  484  491  \n",
      "\n",
      "[1 rows x 23 columns]\n"
     ]
    },
    {
     "data": {
      "text/plain": [
       "Text(0.5, 0, 'Lata')"
      ]
     },
     "execution_count": 272,
     "metadata": {},
     "output_type": "execute_result"
    },
    {
     "data": {
      "image/png": "[encoded data removed]",
      "text/plain": [
       "<Figure size 432x288 with 1 Axes>"
      ]
     },
     "metadata": {},
     "output_type": "display_data"
    }
   ],
   "source": [
    "#WYKRES ZMIANY ILOŚCI KIN W POLSCE W ZALEŻNOŚCI DO ROKU\n",
    "#2:25 bo 26 jest \"-\" i muszę to później zabezpieczyć gdyż wykresu nie zbuduję ze stringów\n",
    "data3=data.iloc[0:1,2:25]\n",
    "print(data3)\n",
    "data3=data3.astype(float)\n",
    "plt.style.use('ggplot') #wygląd wykresu, kind='bar' w t.plot ustawia histogram\n",
    "#data3.T - to transponowanie data3\n",
    "data3.T.plot(alpha=0.75, rot=45,kind='bar')\n",
    "\n",
    "plt.title(\"Ilość kin w Polsce\")\n",
    "plt.ylabel(\"Ilość kin\")\n",
    "plt.xlabel(\"Lata\")"
   ]
  },
  {
   "cell_type": "code",
   "execution_count": 273,
   "metadata": {},
   "outputs": [
    {
     "name": "stderr",
     "output_type": "stream",
     "text": [
      "C:\\ProgramData\\Anaconda3\\lib\\site-packages\\scipy\\stats\\stats.py:1713: FutureWarning: Using a non-tuple sequence for multidimensional indexing is deprecated; use `arr[tuple(seq)]` instead of `arr[seq]`. In the future this will be interpreted as an array index, `arr[np.array(seq)]`, which will result either in an error or a different result.\n",
      "  return np.add.reduce(sorted[indexer] * weights, axis=axis) / sumval\n"
     ]
    },
    {
     "data": {
      "text/plain": [
       "<matplotlib.axes._subplots.AxesSubplot at 0x25371c16f60>"
      ]
     },
     "execution_count": 273,
     "metadata": {},
     "output_type": "execute_result"
    },
    {
     "data": {
      "image/png": "[encoded data removed]",
      "text/plain": [
       "<Figure size 432x288 with 1 Axes>"
      ]
     },
     "metadata": {},
     "output_type": "display_data"
    }
   ],
   "source": [
    "#ładne wykresy od seaborn ale trzeba pokminić o co w nich w zasadzie chodzi\n",
    "import seaborn as sns\n",
    "sns.set_style('darkgrid')\n",
    "sns.distplot(data3.T)"
   ]
  },
  {
   "cell_type": "markdown",
   "metadata": {},
   "source": [
    "<h3>Mamy pierwszy wykres.</h3>\n",
    "\n",
    "Ogólnie plan jest taki by te wyżej algorytmy popakować w funkcje bądź klasy i potem automatycznie zasysać sobie dane, robić z nich wykresy. Na ich podstawie można będzie przedstawić problematykę ilości kin, seansów, polskich filmów, widzów czy inwalidów na przestrzeni lat.\n",
    "\n",
    "<h2>Kocham Cię ;*</h2>\n"
   ]
  },
  {
   "cell_type": "code",
   "execution_count": null,
   "metadata": {},
   "outputs": [],
   "source": []
  },
  {
   "cell_type": "code",
   "execution_count": null,
   "metadata": {},
   "outputs": [],
   "source": []
  }
 ],
 "metadata": {
  "kernelspec": {
   "display_name": "Python 3",
   "language": "python",
   "name": "python3"
  },
  "language_info": {
   "codemirror_mode": {
    "name": "ipython",
    "version": 3
   },
   "file_extension": ".py",
   "mimetype": "text/x-python",
   "name": "python",
   "nbconvert_exporter": "python",
   "pygments_lexer": "ipython3",
   "version": "3.7.1"
  }
 },
 "nbformat": 4,
 "nbformat_minor": 2
}
